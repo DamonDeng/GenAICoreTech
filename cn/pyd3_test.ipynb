{
 "cells": [
  {
   "cell_type": "code",
   "execution_count": 1,
   "metadata": {},
   "outputs": [
    {
     "name": "stdout",
     "output_type": "stream",
     "text": [
      "Collecting ipyd3\n",
      "  Downloading ipyd3-3.0.1-py3-none-any.whl (6.2 MB)\n",
      "\u001b[2K     \u001b[90m━━━━━━━━━━━━━━━━━━━━━━━━━━━━━━━━━━━━━━━━\u001b[0m \u001b[32m6.2/6.2 MB\u001b[0m \u001b[31m3.0 MB/s\u001b[0m eta \u001b[36m0:00:00\u001b[0m00:01\u001b[0m00:01\u001b[0m0m\n",
      "\u001b[?25hRequirement already satisfied: ipywidgets<9,>=7.6.0 in /Users/mingxuan/opt/anaconda3/envs/for_gpt/lib/python3.10/site-packages (from ipyd3) (8.1.2)\n",
      "Requirement already satisfied: comm>=0.1.3 in /Users/mingxuan/opt/anaconda3/envs/for_gpt/lib/python3.10/site-packages (from ipywidgets<9,>=7.6.0->ipyd3) (0.2.2)\n",
      "Requirement already satisfied: ipython>=6.1.0 in /Users/mingxuan/opt/anaconda3/envs/for_gpt/lib/python3.10/site-packages (from ipywidgets<9,>=7.6.0->ipyd3) (8.10.0)\n",
      "Requirement already satisfied: traitlets>=4.3.1 in /Users/mingxuan/opt/anaconda3/envs/for_gpt/lib/python3.10/site-packages (from ipywidgets<9,>=7.6.0->ipyd3) (5.7.1)\n",
      "Requirement already satisfied: widgetsnbextension~=4.0.10 in /Users/mingxuan/opt/anaconda3/envs/for_gpt/lib/python3.10/site-packages (from ipywidgets<9,>=7.6.0->ipyd3) (4.0.10)\n",
      "Requirement already satisfied: jupyterlab-widgets~=3.0.10 in /Users/mingxuan/opt/anaconda3/envs/for_gpt/lib/python3.10/site-packages (from ipywidgets<9,>=7.6.0->ipyd3) (3.0.10)\n",
      "Requirement already satisfied: backcall in /Users/mingxuan/opt/anaconda3/envs/for_gpt/lib/python3.10/site-packages (from ipython>=6.1.0->ipywidgets<9,>=7.6.0->ipyd3) (0.2.0)\n",
      "Requirement already satisfied: decorator in /Users/mingxuan/opt/anaconda3/envs/for_gpt/lib/python3.10/site-packages (from ipython>=6.1.0->ipywidgets<9,>=7.6.0->ipyd3) (5.1.1)\n",
      "Requirement already satisfied: jedi>=0.16 in /Users/mingxuan/opt/anaconda3/envs/for_gpt/lib/python3.10/site-packages (from ipython>=6.1.0->ipywidgets<9,>=7.6.0->ipyd3) (0.18.1)\n",
      "Requirement already satisfied: matplotlib-inline in /Users/mingxuan/opt/anaconda3/envs/for_gpt/lib/python3.10/site-packages (from ipython>=6.1.0->ipywidgets<9,>=7.6.0->ipyd3) (0.1.6)\n",
      "Requirement already satisfied: pickleshare in /Users/mingxuan/opt/anaconda3/envs/for_gpt/lib/python3.10/site-packages (from ipython>=6.1.0->ipywidgets<9,>=7.6.0->ipyd3) (0.7.5)\n",
      "Requirement already satisfied: prompt-toolkit<3.1.0,>=3.0.30 in /Users/mingxuan/opt/anaconda3/envs/for_gpt/lib/python3.10/site-packages (from ipython>=6.1.0->ipywidgets<9,>=7.6.0->ipyd3) (3.0.36)\n",
      "Requirement already satisfied: pygments>=2.4.0 in /Users/mingxuan/opt/anaconda3/envs/for_gpt/lib/python3.10/site-packages (from ipython>=6.1.0->ipywidgets<9,>=7.6.0->ipyd3) (2.15.1)\n",
      "Requirement already satisfied: stack-data in /Users/mingxuan/opt/anaconda3/envs/for_gpt/lib/python3.10/site-packages (from ipython>=6.1.0->ipywidgets<9,>=7.6.0->ipyd3) (0.2.0)\n",
      "Requirement already satisfied: pexpect>4.3 in /Users/mingxuan/opt/anaconda3/envs/for_gpt/lib/python3.10/site-packages (from ipython>=6.1.0->ipywidgets<9,>=7.6.0->ipyd3) (4.8.0)\n",
      "Requirement already satisfied: appnope in /Users/mingxuan/opt/anaconda3/envs/for_gpt/lib/python3.10/site-packages (from ipython>=6.1.0->ipywidgets<9,>=7.6.0->ipyd3) (0.1.2)\n",
      "Requirement already satisfied: parso<0.9.0,>=0.8.0 in /Users/mingxuan/opt/anaconda3/envs/for_gpt/lib/python3.10/site-packages (from jedi>=0.16->ipython>=6.1.0->ipywidgets<9,>=7.6.0->ipyd3) (0.8.3)\n",
      "Requirement already satisfied: ptyprocess>=0.5 in /Users/mingxuan/opt/anaconda3/envs/for_gpt/lib/python3.10/site-packages (from pexpect>4.3->ipython>=6.1.0->ipywidgets<9,>=7.6.0->ipyd3) (0.7.0)\n",
      "Requirement already satisfied: wcwidth in /Users/mingxuan/opt/anaconda3/envs/for_gpt/lib/python3.10/site-packages (from prompt-toolkit<3.1.0,>=3.0.30->ipython>=6.1.0->ipywidgets<9,>=7.6.0->ipyd3) (0.2.5)\n",
      "Requirement already satisfied: executing in /Users/mingxuan/opt/anaconda3/envs/for_gpt/lib/python3.10/site-packages (from stack-data->ipython>=6.1.0->ipywidgets<9,>=7.6.0->ipyd3) (0.8.3)\n",
      "Requirement already satisfied: asttokens in /Users/mingxuan/opt/anaconda3/envs/for_gpt/lib/python3.10/site-packages (from stack-data->ipython>=6.1.0->ipywidgets<9,>=7.6.0->ipyd3) (2.0.5)\n",
      "Requirement already satisfied: pure-eval in /Users/mingxuan/opt/anaconda3/envs/for_gpt/lib/python3.10/site-packages (from stack-data->ipython>=6.1.0->ipywidgets<9,>=7.6.0->ipyd3) (0.2.2)\n",
      "Requirement already satisfied: six in /Users/mingxuan/opt/anaconda3/envs/for_gpt/lib/python3.10/site-packages (from asttokens->stack-data->ipython>=6.1.0->ipywidgets<9,>=7.6.0->ipyd3) (1.16.0)\n",
      "Installing collected packages: ipyd3\n",
      "Successfully installed ipyd3-3.0.1\n",
      "\n",
      "\u001b[1m[\u001b[0m\u001b[34;49mnotice\u001b[0m\u001b[1;39;49m]\u001b[0m\u001b[39;49m A new release of pip is available: \u001b[0m\u001b[31;49m23.1.2\u001b[0m\u001b[39;49m -> \u001b[0m\u001b[32;49m24.0\u001b[0m\n",
      "\u001b[1m[\u001b[0m\u001b[34;49mnotice\u001b[0m\u001b[1;39;49m]\u001b[0m\u001b[39;49m To update, run: \u001b[0m\u001b[32;49mpip install --upgrade pip\u001b[0m\n"
     ]
    }
   ],
   "source": [
    "!pip install ipyd3"
   ]
  },
  {
   "cell_type": "code",
   "execution_count": 1,
   "metadata": {},
   "outputs": [],
   "source": [
    "import ipyd3"
   ]
  },
  {
   "cell_type": "code",
   "execution_count": 5,
   "metadata": {},
   "outputs": [
    {
     "data": {
      "application/vnd.jupyter.widget-view+json": {
       "model_id": "4ba3752c788646a18eb472420badb601",
       "version_major": 2,
       "version_minor": 0
      },
      "text/plain": [
       "ForceDirectedGraph(graph={'nodes': [{'id': 'node11', 'layer': 'layer1', 'group': 'group1'}, {'id': 'node1', 'l…"
      ]
     },
     "execution_count": 5,
     "metadata": {},
     "output_type": "execute_result"
    }
   ],
   "source": [
    "graph = {\"nodes\":\n",
    "            [\n",
    "                {\"id\":\"node11\", \"layer\":\"layer1\", \"group\":\"group1\"},\n",
    "                {\"id\":\"node1\", \"layer\":\"layer1\", \"group\":\"group1\" },\n",
    "                {\"id\":\"node2\", \"layer\":\"layer1\", \"group\":\"group1\" },\n",
    "                {\"id\":\"node5\", \"layer\":\"layer1\" },\n",
    "                {\"id\":\"node4\", \"layer\":\"layer1\" },\n",
    "                {\"id\":\"node3\", \"layer\":\"layer1\" },\n",
    "                {\"id\":\"node6\", \"layer\":\"layer1\" },\n",
    "                {\"id\":\"node7\", \"layer\":\"layer1\" },\n",
    "                {\"id\":\"node8\", \"layer\":\"layer1\", \"group\":\"group2\"},\n",
    "                {\"id\":\"node9\", \"layer\":\"layer1\", \"group\":\"group2\"},\n",
    "                {\"id\":\"node10\", \"layer\":\"layer1\",\"group\":\"group2\"}\n",
    "            ],\n",
    "         \"links\":\n",
    "             [\n",
    "                 {\n",
    "                     \"source\":\"node1\",\n",
    "                     \"target\":\"node2\",\n",
    "                     \"layer\":\"layer1-layer1\"\n",
    "                 },\n",
    "                  {\n",
    "                     \"source\":\"node11\",\n",
    "                     \"target\":\"node2\",\n",
    "                     \"layer\":\"layer1-layer1\"\n",
    "                 },\n",
    "                 {\n",
    "                     \"source\":\"node1\",\n",
    "                     \"target\":\"node3\",\n",
    "                     \"layer\":\"layer1-layer1\"\n",
    "                 },\n",
    "                 {\n",
    "                     \"source\":\"node1\",\n",
    "                     \"target\":\"node4\",\n",
    "                     \"layer\":\"layer1-layer1\"\n",
    "                 },\n",
    "                 {\n",
    "                     \"source\":\"node1\",\n",
    "                     \"target\":\"node5\",\n",
    "                     \"layer\":\"layer1-layer1\"\n",
    "                 },\n",
    "                 {\n",
    "                     \"source\":\"node5\",\n",
    "                     \"target\":\"node6\",\n",
    "                     \"layer\":\"layer1-layer1\"\n",
    "                 },\n",
    "                 {\n",
    "                     \"source\":\"node4\",\n",
    "                     \"target\":\"node7\",\n",
    "                     \"layer\":\"layer1-layer1\"\n",
    "                 },\n",
    "                 {\n",
    "                     \"source\":\"node3\",\n",
    "                     \"target\":\"node8\",\n",
    "                     \"layer\":\"layer1-layer1\"\n",
    "                 },\n",
    "                 {\n",
    "                     \"source\":\"node2\",\n",
    "                     \"target\":\"node9\",\n",
    "                     \"layer\":\"layer1-layer1\"\n",
    "                 },\n",
    "                 {\n",
    "                     \"source\":\"node9\",\n",
    "                     \"target\":\"node10\",\n",
    "                     \"layer\":\"layer1-layer1\"\n",
    "                 }\n",
    "             ]\n",
    "        }\n",
    "ipyd3.ForceDirectedGraph(graph = graph)"
   ]
  },
  {
   "cell_type": "code",
   "execution_count": 6,
   "metadata": {},
   "outputs": [
    {
     "data": {
      "application/vnd.jupyter.widget-view+json": {
       "model_id": "2bb87cc41d184b6aa822b552b10ace0b",
       "version_major": 2,
       "version_minor": 0
      },
      "text/plain": [
       "ForceDirectedGraph(floater=False, graph={'nodes': [{'id': 'node11', 'layer': 'layer1', 'group': 'group1'}, {'i…"
      ]
     },
     "execution_count": 6,
     "metadata": {},
     "output_type": "execute_result"
    }
   ],
   "source": [
    "fdg = ipyd3.ForceDirectedGraph(graph = graph)\n",
    "fdg.width = 900\n",
    "fdg.floater = False\n",
    "fdg"
   ]
  },
  {
   "cell_type": "code",
   "execution_count": null,
   "metadata": {},
   "outputs": [],
   "source": []
  }
 ],
 "metadata": {
  "kernelspec": {
   "display_name": "for_gpt",
   "language": "python",
   "name": "python3"
  },
  "language_info": {
   "codemirror_mode": {
    "name": "ipython",
    "version": 3
   },
   "file_extension": ".py",
   "mimetype": "text/x-python",
   "name": "python",
   "nbconvert_exporter": "python",
   "pygments_lexer": "ipython3",
   "version": "3.10.9"
  }
 },
 "nbformat": 4,
 "nbformat_minor": 2
}
