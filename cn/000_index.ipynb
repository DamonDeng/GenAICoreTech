{
 "cells": [
  {
   "cell_type": "markdown",
   "metadata": {},
   "source": [
    "# GenAI核心技术\n",
    "\n",
    "本文希望通过通俗易懂的方式给程序员出身的技术人们讲解GenAI核心技术。\n",
    "\n",
    "以下是内容目录：\n",
    "\n",
    "## 1. 向量和最简单的神经网络\n",
    "\n",
    "### 1.1 什么是向量\n",
    "### 1.2 人造神经元\n",
    "### 1.3 多层神经网络\n",
    "### 1.4 线性坍塌\n",
    "### 1.5 激活函数\n",
    "\n",
    "## 2. 训练一个神经网络\n",
    "\n",
    "### 2.1 误差\n",
    "### 2.1 反向传导\n",
    "### 2.2 偏导数\n",
    "### 2.3 链式法则\n",
    "\n",
    "## 3. 不同的网络结构\n",
    "\n",
    "### 3.1 全连接神经网络 FCN\n",
    "### 3.2 卷积神经网络 CNN\n",
    "### 3.3 循环神经网络 RNN\n",
    "### 3.4 注意力机制 Attention\n",
    "### 3.5 Transformer\n",
    "\n",
    "## 4. 深入了解Attention和Transformer\n",
    "### 4.1 Query Key and Value\n",
    "### 4.2 Position Encoding\n",
    "### 4.3 Transformer\n",
    "### 4.4 Decoder only架构\n",
    "### 4.5 Encoder Decoder架构\n",
    "### 4.6 Encoder only架构\n",
    "\n",
    "## 5. LLM 工作机制\n",
    "### 5.1 Prompt Engineering\n",
    "### 5.2 从GPT到ChatGPT\n",
    "### 5.3 max_token_size和各种参数\n",
    "### 5.4 思维链\n",
    "### 5.5 Function Calling\n",
    "### 5.6 Agent\n",
    "### 5.7 LLM 状态机\n",
    "\n",
    "## 6. 扩散模型SD\n",
    "### 6.1 扩散模型基本结构\n",
    "### 6.2 CLIP\n",
    "### 6.3 U-Net\n",
    "### 6.4 潜空间\n",
    "### 6.5 空间patch和时空patch\n",
    "\n",
    "\n",
    "\n",
    "\n"
   ]
  },
  {
   "cell_type": "markdown",
   "metadata": {},
   "source": []
  },
  {
   "cell_type": "markdown",
   "metadata": {},
   "source": []
  }
 ],
 "metadata": {
  "kernelspec": {
   "display_name": "for_gpt",
   "language": "python",
   "name": "python3"
  },
  "language_info": {
   "codemirror_mode": {
    "name": "ipython",
    "version": 3
   },
   "file_extension": ".py",
   "mimetype": "text/x-python",
   "name": "python",
   "nbconvert_exporter": "python",
   "pygments_lexer": "ipython3",
   "version": "3.10.9"
  }
 },
 "nbformat": 4,
 "nbformat_minor": 2
}
